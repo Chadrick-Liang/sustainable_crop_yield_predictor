{
 "cells": [
  {
   "cell_type": "markdown",
   "metadata": {
    "cellIdentifier": "3brax54gc92mdv5yf4bog8",
    "deletable": false,
    "editable": false,
    "jp-MarkdownHeadingCollapsed": true,
    "nbgrader": {
     "grade": false,
     "locked": true,
     "solution": false
    },
    "tags": []
   },
   "source": [
    "# Sustainable Crop Yield predictor"
   ]
  },
  {
   "cell_type": "markdown",
   "metadata": {
    "cellIdentifier": "d4oukr61l4snjxaqy2gn3l"
   },
   "source": [
    "## Collaborators\n",
    "\n",
    "- Sawit Anna Rica Alop\n",
    "  contributed to the report, video and website\n",
    "  \n",
    "- Fazeelathunnisa D/O Jafar Sathik Basha\n",
    "  contributed to the report, video and website\n",
    "  \n",
    "- Chadrick Liang Jing\n",
    "  contributed to the report, video and website\n",
    "  \n",
    "- Vijayakumar Rittambhra Rani\n",
    "  contributed to the report, video and website\n",
    "  \n",
    "- Daryl Lim Jing Hng\n",
    "  contributed to the report, video and website"
   ]
  },
  {
   "cell_type": "markdown",
   "metadata": {
    "cellIdentifier": "sugx7cl409ty0kwq55dua"
   },
   "source": [
    "### Problem Statement\n",
    "Food security is a critical global challenge, particularly in developing countries like Indonesia, where food scarcity is exacerbated by ineffective agricultural practices and climate change. In Indonesia, millions rely on agriculture for their livelihoods, yet unsustainable practices, such as slash-and-burn land clearing, contribute to soil degradation, deforestation, and reduced crop yields, threatening food security. This situation leads to malnutrition, illness, and heightened vulnerability among affected populations. \n",
    "\n",
    "To address these challenges, it is essential to focus on optimising crop yields through predictive models which assess factors such as annual precipitation, annual CO2 emissions and agricultural land use. These indicators can help farmers and policymakers better manage resources and predict future food needs. By analysing the relationship between environmental factors and agricultural productivity, this model aims to improve food distribution and support stable population growth in Indonesia, mitigating hunger and improving food security.\n",
    "\n",
    "\n",
    "Our target audience will be the smallholder farmers in Indonesia.\n",
    "Here is an user persona.\n",
    "\n",
    "Name: Wahyuni Hadi\n",
    "Age: 35\n",
    "Location: Central Java, Indonesia\n",
    "Farm Size: 4 hectares, primarily growing rice and maize\n",
    "\n",
    "Goals:\n",
    "Increase cereal crop yields to ensure stable income.\n",
    "Adopt sustainable practices to preserve soil health for future harvests.\n",
    "\n",
    "Behaviors:\n",
    "Relies on traditional farming methods and limited machinery.\n",
    "Uses local weather predictions and advice from the local community.\n",
    "\n",
    "Pain Points:\n",
    "Unpredictable weather patterns affecting crop yield.\n",
    "Limited access to modern technology and data-driven solutions.\n",
    "Would like to use farm machines and expand her farmland but is unsure if it is worth the costly investment.\n",
    "\n",
    "\n",
    "**How might we assess the impacts of Precipitation, CO2 Emissions and Farm Machinery on Cereal Yield?**\n",
    "Understanding these relationships can help farmers optimise resource use and adopt sustainable agricultural practices to improve long-term food security."
   ]
  },
  {
   "cell_type": "markdown",
   "metadata": {},
   "source": [
    "### Dataset\n",
    "\n",
    "Our datasets on Indonesian agriculture, such as cereal yields, annual precipitation, farm machinery per unit land and annual CO2 emissions are sourced from several reputable organizations, including the United Nation's Food and Agriculture Organization(FAO), the Copernicus Climate Change Service, the United States Department for Agriculture (USDA) Economic Research Service and the Global Carbon Project respectively.\n",
    "\n",
    "Cereal yield source: https://ourworldindata.org/grapher/cereal-yield?tab=chart&country=~IDN\n",
    "\n",
    "Annual precipitation: https://ourworldindata.org/grapher/average-precipitation-per-year?tab=chart&country=IDN\n",
    "\n",
    "Farm machinery per unit land: https://ourworldindata.org/grapher/machinery-per-agricultural-land?tab=chart&country=IDN\n",
    "\n",
    "Annual CO2 emissions: https://ourworldindata.org/grapher/annual-co2-emissions-per-country?tab=chart&country=IDN"
   ]
  },
  {
   "cell_type": "code",
   "execution_count": 2,
   "metadata": {
    "cellIdentifier": "ud3vpqunu1qpn45nwknjjd"
   },
   "outputs": [],
   "source": [
    "from typing import TypeAlias\n",
    "from typing import Optional, Any    \n",
    "Number: TypeAlias = int | float\n",
    "import numpy as np\n",
    "import pandas as pd\n",
    "import matplotlib.pyplot as plt\n",
    "import matplotlib.axes as axes\n",
    "import seaborn as sns\n",
    "from IPython.display import display\n",
    "\n",
    "yield_df: pd.DataFrame = pd.read_csv(\"yield.csv\")\n",
    "machine_df: pd.DataFrame = pd.read_csv(\"machinery-per-agricultural-land.csv\")\n",
    "co2_df: pd.DataFrame = pd.read_csv(\"co2.csv\")\n",
    "rain_df: pd.DataFrame = pd.read_csv(\"rain.csv\")"
   ]
  },
  {
   "cell_type": "markdown",
   "metadata": {},
   "source": [
    "The yield.csv dataset contains 4 columns: 'Entity', 'Code', 'Year', 'Cereals | 0001717 || Yield | 005419 || tonnes per hectare'.\n",
    "The Entity and Code columns are the country name and country's alphabetical code respectively, since this dataset is part of a larger global compilation.\n",
    "The year indicates the year the data value was recorded and the last column indicates the tonnes per hectare of crop harvested, which are wheat, rice, maize, barley, oats, rye, millet, sorghum, buckwheat, and mixed grains.\n",
    "\n",
    "The machinery-per-agricultural-land.csv dataset contains 4 columns: 'Entity', 'Code', 'Year', 'machinery_per_ag_land'.\n",
    "The Entity and Code columns are the country name and country's alphabetical code respectively, since this dataset is part of a larger global compilation.\n",
    "The year indicates the year the data value was recorded and the last column indicates the average machinery use in horsepower per 1000 hectares of agricultural land.\n",
    "\n",
    "The rain.csv dataset contains 4 columns: 'Entity', 'Code', 'Year', 'Annual precipitation'.\n",
    "The Entity and Code columns are the country name and country's alphabetical code respectively, since this dataset is part of a larger global compilation.\n",
    "The year indicates the year the data value was recorded and the last column indicates the total annual precipitation of that year in milimeters.\n",
    "\n",
    "The co2.csv dataset contains 4 columns: 'Entity', 'Code', 'Year', 'Annual COâ‚‚ emissions'.\n",
    "The Entity and Code columns are the country name and country's alphabetical code respectively, since this dataset is part of a larger global compilation.\n",
    "The year indicates the year the data value was recorded and the last column indicates the total annual carbon emissions, excluding land use change, in tonnes."
   ]
  },
  {
   "cell_type": "markdown",
   "metadata": {},
   "source": [
    "The dependent variable is the crop yield in tonnes per hectare, which is the 'Cereals | 0001717 || Yield | 005419 || tonnes per hectare' column of the yield.csv dataset. \n",
    "Since one of the main priorities of farmers would be the amount of agricultural product harvested, setting the crop yield as the dependent variable will allow the farmers to keep track of their input factors and their corresponding impact on the environment, as a contibuting factor to their harvest."
   ]
  },
  {
   "cell_type": "markdown",
   "metadata": {},
   "source": [
    "The independent variables would be the 'machinery_per_ag_land' column of the machinery-per-agricultural-land.csv dataset, the 'Annual precipitation' column of the rain.csv dataset and the 'Annual COâ‚‚ emissions' column of the co2.csv dataset.\n",
    "\n",
    "Since farming machinery can speed up the process, productivity and efficiency of a wide range of farming processes from seeding, to plowing to transport, the farming machinery per unit land will directly affect the outcome harvest.\n",
    "\n",
    "Since precipitation, which includes natural rainfall, serves as a significant source of water for the crops to grow, its quantity will directly affect the amount of crops able to mature and be harvested.\n",
    "\n",
    "Since all sorts of farming processes release carbon emissions, from operating farming machines, to using fertilizer to slash-and-burn deforestation, the quantity of carbon emissions is directly related to the amount of farming activity and in turn, the amount of crops to be harvested."
   ]
  },
  {
   "cell_type": "markdown",
   "metadata": {
    "cellIdentifier": "mnalotvuhwah3o3d16kul",
    "deletable": false,
    "editable": false,
    "nbgrader": {
     "grade": false,
     "locked": true,
     "solution": false
    }
   },
   "source": [
    "### Clean & Analyze data\n",
    "We use python code to:\n",
    "- Clean the data\n",
    "- Calculate Descriptive Statistics and other statistical analysis\n",
    "- Perform visualization with meaningful analysis description"
   ]
  },
  {
   "cell_type": "code",
   "execution_count": 3,
   "metadata": {
    "cellIdentifier": "drintkqv74g03a98h37kr7a"
   },
   "outputs": [],
   "source": [
    "yield_df = yield_df.iloc[:-3, 2:4]\n",
    "yield_df.rename(columns={\n",
    "    'Year': 'Year',\n",
    "    'Cereals | 00001717 || Yield | 005419 || tonnes per hectare': 'Crop Yield'\n",
    "}, inplace=True)\n",
    "\n",
    "machine_df: pd.DataFrame = pd.read_csv(\"machinery-per-agricultural-land.csv\")\n",
    "machine_use_df = machine_df[(machine_df['Entity'] == 'Indonesia') & (machine_df['Year'] <= 2019)]\n",
    "machine_use_df = machine_use_df.loc[:, ['Year','machinery_per_ag_land']]\n",
    "machine_use_df.rename(columns={\n",
    "    'Year': 'Year',\n",
    "    'machinery_per_ag_land': 'Machinery Use Per Area'\n",
    "}, inplace=True)\n",
    "\n",
    "co2_df: pd.DataFrame = pd.read_csv(\"co2.csv\")\n",
    "co2_df = co2_df.iloc[72:131, 2:4]\n",
    "co2_df.rename(columns={\n",
    "    'Year': 'Year',\n",
    "    'Annual CO₂ emissions': 'CO2 Emission'\n",
    "}, inplace=True)\n",
    "\n",
    "rain_df: pd.DataFrame = pd.read_csv(\"rain.csv\")\n",
    "rain_df = rain_df.iloc[:, 2:4]"
   ]
  },
  {
   "cell_type": "code",
   "execution_count": 4,
   "metadata": {
    "cellIdentifier": "llzyf0wxva9qcb5sqwe4ip"
   },
   "outputs": [
    {
     "name": "stdout",
     "output_type": "stream",
     "text": [
      "The descriptive statistics for crop yield are: \n",
      "count    59.000000\n",
      "mean      3.466439\n",
      "std       1.196352\n",
      "min       1.501900\n",
      "25%       2.365900\n",
      "50%       3.800200\n",
      "75%       4.292900\n",
      "max       5.313800\n",
      "Name: Crop Yield, dtype: float64\n",
      "\n",
      "The descriptive statistics for machinery per unit land are: \n",
      "count    59.000000\n",
      "mean      0.032010\n",
      "std       0.028273\n",
      "min       0.001410\n",
      "25%       0.005390\n",
      "50%       0.021300\n",
      "75%       0.051700\n",
      "max       0.096600\n",
      "Name: Machinery Use Per Area, dtype: float64\n",
      "\n",
      "The descriptive statistics for annual carbon emissions are: \n",
      "count    5.900000e+01\n",
      "mean     2.203208e+08\n",
      "std      1.810171e+08\n",
      "min      2.237427e+07\n",
      "25%      5.786039e+07\n",
      "50%      1.550808e+08\n",
      "75%      3.448275e+08\n",
      "max      6.537916e+08\n",
      "Name: CO2 Emission, dtype: float64\n",
      "\n",
      "The descriptive statistics for annual precipitation are: \n",
      "count      59.000000\n",
      "mean     3118.920171\n",
      "std       321.191034\n",
      "min      2342.681400\n",
      "25%      2937.125100\n",
      "50%      3123.928000\n",
      "75%      3343.079200\n",
      "max      3773.515000\n",
      "Name: Annual precipitation, dtype: float64\n"
     ]
    }
   ],
   "source": [
    "# descriptive statistics\n",
    "print(f\"The descriptive statistics for crop yield are: \\n{yield_df['Crop Yield'].describe()}\\n\")\n",
    "#print(yield_df['Crop Yield'])\n",
    "\n",
    "print(f\"The descriptive statistics for machinery per unit land are: \\n{machine_use_df['Machinery Use Per Area'].describe()}\\n\")\n",
    "#print(machine_use_df)\n",
    "\n",
    "print(f\"The descriptive statistics for annual carbon emissions are: \\n{co2_df['CO2 Emission'].describe()}\\n\")\n",
    "\n",
    "print(f\"The descriptive statistics for annual precipitation are: \\n{rain_df['Annual precipitation'].describe()}\")"
   ]
  },
  {
   "cell_type": "code",
   "execution_count": 5,
   "metadata": {
    "cellIdentifier": "pvcupguct9c8fggigcezh"
   },
   "outputs": [
    {
     "data": {
      "text/plain": [
       "Text(0.5, 0, 'Carbon emissions/ ton')"
      ]
     },
     "execution_count": 5,
     "metadata": {},
     "output_type": "execute_result"
    },
    {
     "data": {
      "image/png": "[encoded data removed]",
      "text/plain": [
       "<Figure size 432x288 with 1 Axes>"
      ]
     },
     "metadata": {
      "needs_background": "light"
     },
     "output_type": "display_data"
    }
   ],
   "source": [
    "# visualization with analysis\n",
    "plt.title('Cereal yield vs annual carbon emissions')\n",
    "plt.scatter(co2_df['CO2 Emission'], yield_df['Crop Yield'])\n",
    "plt.ylabel('Crop yield/tonnes per hectare')\n",
    "plt.xlabel('Carbon emissions/ ton')\n"
   ]
  },
  {
   "cell_type": "markdown",
   "metadata": {},
   "source": [
    "The data points indicate a positive correlation between carbon emissions and cereal yield. \n",
    "\n",
    "As annual carbon emissions increase, cereal yield also tends to increase which is intuitive since plenty of agricultural practices release significant carbon emissions, from the use of fertilizer to the emissions from machinery and livestock.\n",
    "\n",
    "The initial relationship appears to be non-linear, with the growth in yield slowing as emissions increase beyond a certain point, possibly due to diminishing returns."
   ]
  },
  {
   "cell_type": "code",
   "execution_count": 6,
   "metadata": {},
   "outputs": [
    {
     "data": {
      "text/plain": [
       "Text(0.5, 0, 'Precipitaion/ milimeter')"
      ]
     },
     "execution_count": 6,
     "metadata": {},
     "output_type": "execute_result"
    },
    {
     "data": {
      "image/png": "[encoded data removed]",
      "text/plain": [
       "<Figure size 432x288 with 1 Axes>"
      ]
     },
     "metadata": {
      "needs_background": "light"
     },
     "output_type": "display_data"
    }
   ],
   "source": [
    "plt.title('Cereal yield vs annual precipitation')\n",
    "plt.scatter(rain_df['Annual precipitation'], yield_df['Crop Yield'])\n",
    "plt.ylabel('Crop yield/tonnes per hectare')\n",
    "plt.xlabel('Precipitaion/ milimeter')"
   ]
  },
  {
   "cell_type": "markdown",
   "metadata": {},
   "source": [
    "The data points do not show a strong or clear linear relationship between precipitation and cereal yield.\n",
    "\n",
    "The points are scatted such that for similar precipitation levels, cereal yield varies significantly.\n",
    "\n",
    "Perhaps the current irrigation systems utilized are independent from rainfall and sufficient water for crop growth is already delivered through existing systems."
   ]
  },
  {
   "cell_type": "code",
   "execution_count": 7,
   "metadata": {},
   "outputs": [
    {
     "data": {
      "text/plain": [
       "Text(0.5, 0, 'Machinery use/ horsepower per 1000 hectares')"
      ]
     },
     "execution_count": 7,
     "metadata": {},
     "output_type": "execute_result"
    },
    {
     "data": {
      "image/png": "[encoded data removed]",
      "text/plain": [
       "<Figure size 432x288 with 1 Axes>"
      ]
     },
     "metadata": {
      "needs_background": "light"
     },
     "output_type": "display_data"
    }
   ],
   "source": [
    "plt.title('Cereal yield vs machinery per unit land')\n",
    "plt.scatter(machine_use_df['Machinery Use Per Area'], yield_df['Crop Yield'])\n",
    "plt.ylabel('Crop yield/tonnes per hectare')\n",
    "plt.xlabel('Machinery use/ horsepower per 1000 hectares')"
   ]
  },
  {
   "cell_type": "markdown",
   "metadata": {},
   "source": [
    "There is a clear positive correlation between machinery use and cereal yield. \n",
    "\n",
    "As machinery use increases, cereal yield also increases, since productivity tends to increase with machine input as compared to manual labour.\n",
    "\n",
    "The data points display diminishing returns since below 0.04 horsepower/1000 hectares, cereal yield increases rapidly before rate of growth slows."
   ]
  },
  {
   "cell_type": "markdown",
   "metadata": {
    "cellIdentifier": "5spy1s2ji3345y1uunm7es",
    "deletable": false,
    "editable": false,
    "nbgrader": {
     "grade": false,
     "locked": true,
     "solution": false
    }
   },
   "source": [
    "### Features and Target Preparation\n",
    "\n",
    "Prepare features and target for model training."
   ]
  },
  {
   "cell_type": "code",
   "execution_count": 8,
   "metadata": {
    "cellIdentifier": "x1leu6b5aph6akcqy9stf4",
    "tags": []
   },
   "outputs": [],
   "source": [
    "# put Python code to prepare your features and target\n",
    "\n",
    "#Combining all relevant data into one dataframe\n",
    "combined_df = rain_df.merge(machine_use_df, on='Year').merge(co2_df, on='Year').merge(yield_df, on='Year')\n",
    "\n",
    "#Splitting columns into feature and target dataframes\n",
    "def get_features_targets(df: pd.DataFrame, \n",
    "                         feature_names: list[str], \n",
    "                         target_names: list[str]) -> tuple[pd.DataFrame, pd.DataFrame]:\n",
    "    df_feature = pd.DataFrame(df[feature_names[:]])\n",
    "    df_target = pd.DataFrame(df[target_names[:]])\n",
    "    return df_feature, df_target\n",
    "\n",
    "df_features, df_target = get_features_targets(combined_df, [\"Annual precipitation\", \"Machinery Use Per Area\", \"CO2 Emission\"], [\"Crop Yield\"])\n",
    "\n",
    "#Randomly splitting the targets and features into training dataframes and testing dataframes\n",
    "def split_data(df_feature: pd.DataFrame, df_target: pd.DataFrame, \n",
    "               random_state: Optional[int]=None, \n",
    "               test_size: float=0.5) -> tuple[pd.DataFrame, pd.DataFrame, pd.DataFrame, pd.DataFrame]:\n",
    "    np.random.seed(random_state)\n",
    "    \n",
    "    df_feature_train=df_feature.copy()\n",
    "    df_target_train=df_target.copy()\n",
    "\n",
    "    arridx=np.random.choice(df_feature.shape[0],int(test_size*df_feature_train.shape[0]),replace=False)\n",
    "\n",
    "    df_feature_test=df_feature_train.loc[arridx]\n",
    "    df_feature_train.drop(arridx,inplace=True)\n",
    "    \n",
    "    df_target_test=df_target_train.loc[arridx]\n",
    "    df_target_train.drop(arridx,inplace=True)\n",
    "    return df_feature_train, df_feature_test, df_target_train, df_target_test\n",
    "\n",
    "df_feature_train, df_features_test, df_target_train, df_target_test = split_data(df_features, df_target, random_state=100, test_size=0.3)\n",
    "\n",
    "#normalizing the features and extracting stats\n",
    "def normalize_z(array: np.ndarray, \n",
    "                columns_means: Optional[np.ndarray]=None, \n",
    "                columns_stds: Optional[np.ndarray]=None) -> tuple[np.ndarray, np.ndarray, np.ndarray]:\n",
    "    if columns_means is None:\n",
    "        columns_means=np.mean(array,axis=0)\n",
    "    if columns_stds is None:\n",
    "        columns_stds=np.std(array,axis=0)\n",
    "        \n",
    "    out = (array-columns_means)/columns_stds\n",
    "    return out, columns_means, columns_stds\n",
    "\n",
    "array_features_train_z, means, stds = normalize_z(df_feature_train)\n",
    "\n",
    "#preparing the feature numpy array to include the intercept term β0\n",
    "def prepare_feature(np_feature: np.ndarray) -> np.ndarray:\n",
    "    one_column = np.ones((np_feature.shape[0], 1))\n",
    "    return np.concatenate((one_column, np_feature), axis=1)\n",
    "\n",
    "#converting target into numpy array\n",
    "X: np.ndarray = prepare_feature(array_features_train_z)\n",
    "target: np.ndarray = df_target_train.to_numpy()"
   ]
  },
  {
   "cell_type": "markdown",
   "metadata": {
    "cellIdentifier": "wyzlafckek8h4t0nsibxr",
    "deletable": false,
    "editable": false,
    "nbgrader": {
     "grade": false,
     "locked": true,
     "solution": false
    }
   },
   "source": [
    "### Building Model\n",
    "\n",
    "Use python code to build your model mathematically without provided pre-made functions."
   ]
  },
  {
   "cell_type": "markdown",
   "metadata": {},
   "source": [
    "Set the variable iterations as the number of iterations that the gradient descent algorithm will run to determine the beta coefficients.\n",
    "\n",
    "Set the variable alpha as the learning rate, determining the degree of correction each iteration performs to find the lowest cost function.\n",
    "\n",
    "Set the variable beta, a numpy array that contains 0s initially and will eventually contain the coefficients of the independent variables."
   ]
  },
  {
   "cell_type": "code",
   "execution_count": 10,
   "metadata": {},
   "outputs": [],
   "source": [
    "iterations: int = 1500\n",
    "alpha: float = 0.01\n",
    "beta: np.ndarray = np.zeros((4,1))"
   ]
  },
  {
   "cell_type": "markdown",
   "metadata": {},
   "source": [
    "The function calc_linreg() takes in the numpy array X, which is the matrix of feature values, and the numpy array beta, which contains the coefficients of the independent variables.\n",
    "\n",
    "It multiplies the 2 matrixes to get a numpy array of the predicted target value, y_hat."
   ]
  },
  {
   "cell_type": "code",
   "execution_count": 11,
   "metadata": {},
   "outputs": [],
   "source": [
    "#gradient_descent function\n",
    "def calc_linreg(X: np.ndarray, beta: np.ndarray) -> np.ndarray:\n",
    "    return np.matmul(X, beta)"
   ]
  },
  {
   "cell_type": "markdown",
   "metadata": {},
   "source": [
    "The compute_cost_linreg() function calculates the cost function, stored in the variable J.\n",
    "\n",
    "The variable m stores the number of rows in the numpy array X, representing the number of samples in the dataset.\n",
    "\n",
    "The variable y_hat stores the predicted target value.\n",
    "\n",
    "The variable J stores the cost function, calculated by summing the square of the differences between y_hat and the actual y target value, before dividing it by 2m.\n",
    "\n",
    "However, to ensure that the return value is always a scalar and not a nested array, np.squeeze() is called."
   ]
  },
  {
   "cell_type": "code",
   "execution_count": 12,
   "metadata": {},
   "outputs": [],
   "source": [
    "def compute_cost_linreg(X: np.ndarray, y: np.ndarray, beta: np.ndarray) -> np.ndarray:\n",
    "    m = X.shape[0]\n",
    "    y_hat = calc_linreg(X, beta)\n",
    "    J = np.sum((y_hat - y)**2) / (2*m)\n",
    "    return np.squeeze(J)"
   ]
  },
  {
   "cell_type": "markdown",
   "metadata": {},
   "source": [
    "The gradient_descent_linreg() function essentially iteratively computes the cost function stored in the variable 'cost'.\n",
    "\n",
    "It checks if the current iteration's cost matches the last stored cost function in the array J_storage.\n",
    "\n",
    "If the cost function value is the same, it means the cost function has stagnated and the lowest cost has been found, so it exits the loop.\n",
    "\n",
    "If the cost function value's magnitude is too large, exit the loop so that the learning rate can be re-adjusted so that it doesn't overshoot.\n",
    "\n",
    "It then stores this iteration's cost function in the array J_storage.\n",
    "\n",
    "This iterations predicted y_hat value is generated by calling calc_linreg().\n",
    "\n",
    "Finally, beta updates itself by subtracting the product of the gradient of the cost function and the learning rate.\n",
    "\n",
    "This gradient of the cost function is computed through 1/total number of values multiplied by the residuals (y_hat - y) and the transpose of the X feature matrix.\n",
    "\n",
    "The subtraction aims to keep the cost function as low as possible within the set iterations so that the model's predictions are as accurate as possible with the correct coefficients of the independent variables.\n",
    "\n",
    "It returns the final beta value and J_storage array of the cost functions."
   ]
  },
  {
   "cell_type": "code",
   "execution_count": 13,
   "metadata": {},
   "outputs": [],
   "source": [
    "def gradient_descent_linreg(X: np.ndarray, y: np.ndarray, beta: np.ndarray, \n",
    "                            alpha: float, num_iters: int) -> tuple[np.ndarray, np.ndarray]:\n",
    "    J_storage = np.zeros((num_iters, 1))\n",
    "    #print('this is J_storage: ', J_storage)\n",
    "    m = X.shape[0]\n",
    "    #print(f'this is m: {m}')\n",
    "    for i in range(num_iters):\n",
    "        cost = compute_cost_linreg(X, y, beta)\n",
    "        if cost == J_storage[-1]:\n",
    "            print('cost function values stagnated')\n",
    "            return beta, J_storage\n",
    "        J_storage[i] = cost\n",
    "        if i > 0 and abs(cost) > 1000000000:\n",
    "            print(f\"Cost is too large at iteration {i}, stopping early.\")\n",
    "            print(J_storage)\n",
    "            return beta, J_storage\n",
    "        y_hat = calc_linreg(X, beta)\n",
    "        beta = beta - (alpha / m) * (np.matmul(X.T, (y_hat - y)))\n",
    "\n",
    "    return beta, J_storage\n",
    "\n",
    "beta, J_storage = gradient_descent_linreg(X, target, beta, alpha, iterations)"
   ]
  },
  {
   "cell_type": "markdown",
   "metadata": {},
   "source": [
    "The predict_linreg() function normalizes the array_features, which is index 0 of normalize_z() output.\n",
    "\n",
    "If the normalized array is not a numpy array, it converts it into one through np.asarray.\n",
    "\n",
    "The prepare_feature() function is called which adds a column of ones to the feature matrix for the intercept terms.\n",
    "\n",
    "The calc_linreg() function is then called to multiply the array_feature matrix with the beta coefficient matrix to obtain a numpy array of predicted y_hat values."
   ]
  },
  {
   "cell_type": "code",
   "execution_count": 14,
   "metadata": {},
   "outputs": [],
   "source": [
    "def predict_linreg(array_feature: np.ndarray, beta: np.ndarray, \n",
    "                   means: Optional[np.ndarray]=None, \n",
    "                   stds: Optional[np.ndarray]=None) -> np.ndarray:\n",
    "    array_feature = np.asarray(normalize_z(array_feature, means, stds)[0])\n",
    "    array_feature = prepare_feature(array_feature)\n",
    "    return calc_linreg(array_feature, beta)\n",
    "\n",
    "# call the predict() method with established coefficients to generate predicted Y_cap values\n",
    "pred: np.ndarray = predict_linreg(df_features_test, beta, means, stds)"
   ]
  },
  {
   "cell_type": "markdown",
   "metadata": {
    "cellIdentifier": "2unt7l8s45pvvfr8i0j0ka",
    "deletable": false,
    "editable": false,
    "nbgrader": {
     "grade": false,
     "locked": true,
     "solution": false
    }
   },
   "source": [
    "### Evaluating the Model\n",
    "\n",
    "- Describing the chosen metrics\n",
    "- Evaluating model performance"
   ]
  },
  {
   "cell_type": "code",
   "execution_count": 15,
   "metadata": {
    "cellIdentifier": "0pc6mmhipg0b5twb6ag1td"
   },
   "outputs": [
    {
     "name": "stdout",
     "output_type": "stream",
     "text": [
      "this is the r2 score 0.849117645813564\n",
      "this is the mean squared error 0.2548055209970702\n"
     ]
    }
   ],
   "source": [
    "# put Python code to test & evaluate the model\n",
    "\n",
    "#Check accuracy of predicted Y_cap values via r^2 and MSE\n",
    "def r2_score(y: np.ndarray, ypred: np.ndarray) -> float:\n",
    "    y_mean = np.mean(y)\n",
    "    SStot = np.sum((y - y_mean) ** 2)\n",
    "    SSres = np.sum((y - ypred) ** 2)\n",
    "    r2 = 1 - (SSres / SStot)\n",
    "    return r2\n",
    "\n",
    "def mean_squared_error(target: np.ndarray, pred: np.ndarray) -> float:\n",
    "    MSE = np.mean((target - pred) ** 2)\n",
    "    return MSE\n",
    "\n",
    "target: np.ndarray = df_target_test.to_numpy()\n",
    "r2: float = r2_score(target, pred)\n",
    "print(f'this is the r2 score {r2}')\n",
    "\n",
    "mse: float = mean_squared_error(target, pred)\n",
    "print(f'this is the mean squared error {mse}')\n"
   ]
  },
  {
   "cell_type": "markdown",
   "metadata": {},
   "source": [
    "Our chosen metrics would be the R^2 value and the Mean Squared Error(MSE).\n",
    "\n",
    "The R^2 gives a measure of how well the total spread of the crop yield data values can be explained by the model and its inputs.\n",
    "Also, the R^2 metric is unitless and always between the values 0 to 1, which makes it straightforward to compare across different models and datasets.\n",
    "\n",
    "On the other hand, the MSE measures the average squared difference between predicted and actual values, quantifying the magnitude of prediction errors.\n",
    "Since it squares the difference, MSE is more sensitive to large gaps between the actual and predicted because all gaps are calculated to the power of 2.\n",
    "\n",
    "In terms of performance, our model has attained an R^2 of approximately 0.8491, hence accounting for about 85% of the variability in crop yield due to machinery, precipitation and carbon emissions.\n",
    "However, the unexplained variance of 15% could be due to the non-linear nature of the relationship between yield and precipitaion.\n",
    "\n",
    "Meanwhile, the model also attained a MSE of 0.2548055209970702, which is realtively low. \n",
    "For better comparison, finding the normalized RMSE converts the error to the same units as the crop yield for comparison.\n",
    "Normalized RMSE = (MSE^0.5)/(Max(y) - Min(y))\n",
    "The current normalized RMSE value is 0.1298 which means the model's errors account for approximately 13% of the total range of crop yield, which is relatively small."
   ]
  },
  {
   "cell_type": "markdown",
   "metadata": {
    "cellIdentifier": "hnrervpc9ood1trkd0ku3c",
    "deletable": false,
    "editable": false,
    "nbgrader": {
     "grade": false,
     "locked": true,
     "solution": false
    }
   },
   "source": [
    "### Improving the Model\n",
    "\n",
    "- Improve the model through hyperparameter tuning.\n"
   ]
  },
  {
   "cell_type": "code",
   "execution_count": 16,
   "metadata": {
    "cellIdentifier": "x3anvx5y9u9s2x85i5gnwa"
   },
   "outputs": [
    {
     "name": "stdout",
     "output_type": "stream",
     "text": [
      "this is the r2 score 0.94819577918076\n",
      "this is the mean squared error 0.08748538917535241\n"
     ]
    }
   ],
   "source": [
    "# Re-iterate the steps above with improvement\n",
    "#include function that implements polynomials into the equation\n",
    "def transform_features(df_feature: pd.DataFrame, \n",
    "                       colname: str, \n",
    "                       colname_transformed: str,\n",
    "                       power) -> pd.DataFrame:\n",
    "    #df_feature[colname_transformed] = np.square(df_feature[colname])\n",
    "    df_feature[colname_transformed] = np.power(df_feature[colname], power)\n",
    "    return df_feature\n",
    "\n",
    "combined_df = rain_df.merge(machine_use_df, on='Year').merge(co2_df, on='Year').merge(yield_df, on='Year')\n",
    "df_features, df_target = get_features_targets(combined_df, [\"Annual precipitation\", \"Machinery Use Per Area\", \"CO2 Emission\"], [\"Crop Yield\"])\n",
    "\n",
    "#INTRODUCE POLYNOMIAL MODELLING TO BETTER REPRESENT RELATIONSHIP BTW FEATURE AND TARGET\n",
    "df_features = transform_features(df_features, \"Machinery Use Per Area\", \"Machinery Use Per Area\", 3)\n",
    "df_features = transform_features(df_features, \"CO2 Emission\", \"CO2 Emission\", 0.5)\n",
    "\n",
    "#Randomly splitting the targets and features into training dataframes and testing dataframes\n",
    "df_feature_train, df_features_test, df_target_train, df_target_test = split_data(df_features, df_target, random_state=100, test_size=0.3)\n",
    "#normalizing the features and extracting stats\n",
    "array_features_train_z, means, stds = normalize_z(df_feature_train)\n",
    "\n",
    "#converting target into numpy array\n",
    "X: np.ndarray = prepare_feature(array_features_train_z)\n",
    "target: np.ndarray = df_target_train.to_numpy()\n",
    "\n",
    "#Gradient descent to find coefficents beta and lowest cost function\n",
    "iterations: int = 1500\n",
    "alpha: float = 0.01\n",
    "beta: np.ndarray = np.zeros((4,1))\n",
    "# Call the gradient_descent function\n",
    "beta, J_storage = gradient_descent_linreg(X, target, beta, alpha, iterations)\n",
    "\n",
    "pred: np.ndarray = predict_linreg(df_features_test, beta, means, stds)\n",
    "\n",
    "target: np.ndarray = df_target_test.to_numpy()\n",
    "r2: float = r2_score(target, pred)\n",
    "print(f'this is the r2 score {r2}')\n",
    "\n",
    "mse: float = mean_squared_error(target, pred)\n",
    "print(f'this is the mean squared error {mse}')\n"
   ]
  },
  {
   "cell_type": "markdown",
   "metadata": {},
   "source": [
    "Given that the initial relationship between crop yield and carbon emissions was a positive correlation with diminishing returns the greater amount of emissions, a square root transformation of x^0.5 was applied on the carbon emission values.\n",
    "\n",
    "Slowing down the rate of growth such that the linear line becomes a concave curve ensured that the predicted y_hat crop yield values rose rapidly for smaller values of carbon emission but experienced a decreasing rate of growth as the emissions grew larger, resulting in more accurate predicted y_hat values."
   ]
  },
  {
   "cell_type": "markdown",
   "metadata": {},
   "source": [
    "The initial relationship between crop yield and machinery was also a positive correlation but with a much steeper increase, nearly a vertical line. Due to this steepness, it is necessary to transform the independent variable in order to more accurately capture the graphical pattern.\n",
    "\n",
    "Initially, a transformation of x^2 was applied to attempt to capture this steep graphical pattern. However, the pattern was still not accurately captured.\n",
    "\n",
    "Hence, to further improve the equation, a more effective transformation of x^3 was applied to attempt to capture that initial accelerating impact as this presented the most accurate graph."
   ]
  },
  {
   "cell_type": "markdown",
   "metadata": {
    "cellIdentifier": "c9ywqckb64avu5qr8n5i2",
    "deletable": false,
    "editable": false,
    "nbgrader": {
     "grade": false,
     "locked": true,
     "solution": false
    }
   },
   "source": [
    "### Discussion and Analysis\n"
   ]
  },
  {
   "cell_type": "markdown",
   "metadata": {
    "cellIdentifier": "8pdxldawaydxaekkynrcgk"
   },
   "source": [
    "As a result of implementing polynomial modelling, both chosen metrics experienced great improvement.\n",
    "\n",
    "The R^2 value increased from 0.849117645813564 to 0.94819577918076, while the MSE fell from 0.2548055209970702 to 0.08748538917535241, indicating a significant improvement in accuracy.\n",
    "\n",
    "The new R^2 can account for about 95% of the variability in crop yield due to machinery, precipitation and carbon emissions.\n",
    "\n",
    "The new normalized RMSE would then be 0.0761 which means the model's errors account for approximately 7.6% of the total range of crop yield, which is very good.\n"
   ]
  },
  {
   "cell_type": "markdown",
   "metadata": {},
   "source": [
    "In conclusion, our analysis shows that CO2 emissions significantly influence cereal yield, while precipitation and farm machinery have weaker impacts. \n",
    "\n",
    "These findings suggest a shift in focus toward addressing other factors such as fertilizer use, livestock quantity or soil quality.\n",
    "\n",
    "All in all, our model performs to a high degree of accuracy in predicting crop yields based on the input factors, allowing it to serve as a reliable tool in forecasting returns while also enabling our users to keep track and quantify their impact on the environment."
   ]
  }
 ],
 "metadata": {
  "kernelspec": {
   "display_name": "Python 3 [3.10]",
   "language": "python",
   "name": "python3"
  },
  "language_info": {
   "codemirror_mode": {
    "name": "ipython",
    "version": 3
   },
   "file_extension": ".py",
   "mimetype": "text/x-python",
   "name": "python",
   "nbconvert_exporter": "python",
   "pygments_lexer": "ipython3",
   "version": "3.10.2"
  }
 },
 "nbformat": 4,
 "nbformat_minor": 4
}
